{
  "nbformat": 4,
  "nbformat_minor": 0,
  "metadata": {
    "colab": {
      "name": "ProjectOML_MarinaCHAU.ipynb",
      "provenance": [],
      "collapsed_sections": [],
      "toc_visible": true,
      "include_colab_link": true
    },
    "kernelspec": {
      "name": "python3",
      "display_name": "Python 3"
    },
    "language_info": {
      "name": "python"
    }
  },
  "cells": [
    {
      "cell_type": "markdown",
      "metadata": {
        "id": "view-in-github",
        "colab_type": "text"
      },
      "source": [
        "<a href=\"https://colab.research.google.com/github/MarinaChau/F1-Hackathon-2022/blob/main/OML/ProjectOML_MarinaCHAU.ipynb\" target=\"_parent\"><img src=\"https://colab.research.google.com/assets/colab-badge.svg\" alt=\"Open In Colab\"/></a>"
      ]
    },
    {
      "cell_type": "markdown",
      "source": [
        "# 1. Second-order optimization methods"
      ],
      "metadata": {
        "id": "UfLnjKB3CSsk"
      }
    },
    {
      "cell_type": "code",
      "source": [
        "# Preamble: useful toolboxes, librairies, functions, etc.\n",
        "\n",
        "# Display\n",
        "%matplotlib inline\n",
        "import matplotlib.pyplot as plt\n",
        "\n",
        "from math import sqrt # Square root\n",
        "\n",
        "# NumPy - Matrix and vector structures\n",
        "import numpy as np # NumPy library\n",
        "from numpy.random import multivariate_normal, randn, uniform # Probability distributions\n",
        "\n",
        "# SciPy - Efficient mathematical calculation\n",
        "from scipy.linalg import norm # Euclidean norm\n",
        "from scipy.linalg.special_matrices import toeplitz # Toeplitz matrices\n",
        "from scipy.linalg import svdvals # Singular value decomposition\n",
        "from scipy.optimize import check_grad # Check derivatives\n",
        "from scipy.optimize import fmin_l_bfgs_b # Efficient method for minimization\n",
        "\n",
        "#Compteur de comparaison\n",
        "Ite_BFGS = 0 \n",
        "Fonc_BFGS = 0\n",
        "Grad_BFGS = 0\n",
        "Ite_Newton = 0 \n",
        "Fonc_Newton = 0\n",
        "Grad_Newton = 0"
      ],
      "metadata": {
        "id": "rnLuKCgxCjNB"
      },
      "execution_count": null,
      "outputs": []
    },
    {
      "cell_type": "markdown",
      "source": [
        "## 1.1 Newton's method"
      ],
      "metadata": {
        "id": "3s8M_bawNdFp"
      }
    },
    {
      "cell_type": "markdown",
      "source": [
        "### Implementation 1.1"
      ],
      "metadata": {
        "id": "g2zEGYK5NkCK"
      }
    },
    {
      "cell_type": "code",
      "source": [
        "def newton_method(w0, function_f, gradient_f, hessian_f, n_iter, eps = 0.0001):\n",
        "    \"\"\"\n",
        "        A code for  Newton's method in its basic form\n",
        "\n",
        "        Inputs:\n",
        "            w0: Initial vector\n",
        "            function_f: Objective function\n",
        "            gradient_f: Gradient of the objective function\n",
        "            hessian_f: hessian matrix of the objective function\n",
        "            n_iter: Number of iterations\n",
        "            eps: convergence stop\n",
        "\n",
        "        Outputs:\n",
        "            w_output: Final iterate of the method\n",
        "    \"\"\"\n",
        "\n",
        "        ############\n",
        "    # Initialize iteration counter\n",
        "    k=1\n",
        "    ####################\n",
        "    # Main loop\n",
        "    w = w0 - np.dot(np.linalg.inv(hessian_f(w0)), gradient_f(w0))\n",
        "    while (np.linalg.norm(gradient_f(w), 2) > eps and k < n_iter):\n",
        "        \n",
        "        # Select the stepsize and perform the update\n",
        "        w = w - np.dot(np.linalg.inv(hessian_f(w)), gradient_f(w))\n",
        "        \n",
        "        # Increment the iteration count\n",
        "        k += 1\n",
        "        \n",
        "    \n",
        "    # End main loop\n",
        "    ######################\n",
        "    # Output\n",
        "    print(w)\n",
        "    w_output = w.copy()\n",
        "    return w_output, k\n"
      ],
      "metadata": {
        "id": "hWIZofCKDVHh"
      },
      "execution_count": null,
      "outputs": []
    },
    {
      "cell_type": "markdown",
      "source": [
        "### Question 1.1 \n",
        "\n",
        "a) \n",
        "\n",
        "minimize  $  w∈R^3 q(w) := 2(w1 + w2 + w3 − 3)^2 + (w1 − w2)^2 + (w2 − w3)^2 $\n",
        "\n",
        "We have: $\\nabla f (w) = \n",
        "\\begin{bmatrix}\n",
        "          6w_1 + 2w_2 + 4w_3 -12 \\\\\n",
        "          2w_1 + 8w_2 + 2w_3 -12\\\\     \n",
        "          4w_1 + 2w_2 + 6w_3 -12\n",
        "\\end{bmatrix}$\n",
        "and the hessian $\\nabla^2f(w) = \\begin{bmatrix}\n",
        "          6 & 2 & 4\\\\\n",
        "          2 & 8 & 2\\\\\n",
        "          4 & 2 & 6\n",
        "\\end{bmatrix}$\n",
        "\n",
        "After inverting the hessian:\n",
        "$\\nabla^2f(w)^{-1} = \\begin{bmatrix}\n",
        "          \\frac{11}{36} & -\\frac{1}{36} & -\\frac{7}{36}\\\\\n",
        "          -\\frac{1}{36} & \\frac{5}{36} & -\\frac{1}{36}\\\\\n",
        "          -\\frac{7}{36} & -\\frac{1}{36} & \\frac{11}{36}\n",
        "\\end{bmatrix}$\n",
        "\n",
        "So at step 1: with $ w_0 = \\begin{bmatrix}\n",
        "          0\\\\\n",
        "          0\\\\\n",
        "          0\n",
        "\\end{bmatrix}$\n",
        "\n",
        "We get,\n",
        "\n",
        "$w_1 = w_0 − [\\nabla^2 f (w_0)]^{-1} \\nabla f (w_0) = -\\begin{bmatrix}\n",
        "          \\frac{11}{36} & -\\frac{1}{36} & -\\frac{7}{36}\\\\\n",
        "          -\\frac{1}{36} & \\frac{5}{36} & -\\frac{1}{36}\\\\\n",
        "          -\\frac{7}{36} & -\\frac{1}{36} & \\frac{11}{36}\n",
        "\\end{bmatrix}  \\begin{bmatrix}\n",
        "           -12 \\\\\n",
        "           -12\\\\     \n",
        "           -12\n",
        "\\end{bmatrix}$ =$\\begin{bmatrix}\n",
        "           1 \\\\\n",
        "           1 \\\\     \n",
        "           1\n",
        "\\end{bmatrix}$\n",
        "\n",
        "\n",
        "Thus, after one iteration, it converges to the solution with Newton's method. \n",
        "\n"
      ],
      "metadata": {
        "id": "_tj8qK-WaY9M"
      }
    },
    {
      "cell_type": "markdown",
      "source": [
        "b)"
      ],
      "metadata": {
        "id": "R3OU_aMYj_4A"
      }
    },
    {
      "cell_type": "code",
      "source": [
        "def Newton(fonc, w_0, w_star, eps):\n",
        "  w_k = w_0\n",
        "  val = fonc()\n",
        "  delta = 1\n",
        "  D = []\n",
        "  while (delta > eps):\n",
        "    w_k = Newton_iteration(val.grad(w_k), val.hess(w_k), w_k)\n",
        "    delta = np.linalg.norm(w_k - w_star)\n",
        "    D.append(delta)\n",
        "  return w_k, D\n",
        "\n",
        "def Newton_iteration(grad, second_grad, w_k):\n",
        "  inv_sec_grad = np.linalg.inv(second_grad)\n",
        "  w = w_k - np.dot(inv_sec_grad, grad)\n",
        "  return w"
      ],
      "metadata": {
        "id": "DzjhegTvJjL3"
      },
      "execution_count": null,
      "outputs": []
    },
    {
      "cell_type": "code",
      "source": [
        "class quadratic_func :\n",
        "  def q(self, w):\n",
        "      return 2*(w[0]+w[1]+w[2]-3)**2+(w[0]-w[1])**2+(w[1]-w[2])**2\n",
        "\n",
        "  def grad(self, w):\n",
        "      grad = np.zeros(3)\n",
        "      grad[0]=6*w[0]+2*w[1]+4*w[2]-12\n",
        "      grad[1]=2*w[0]+8*w[1]+2*w[2]-12\n",
        "      grad[2]=4*w[0]+2*w[1]+6*w[2]-12\n",
        "      return grad\n",
        "\n",
        "  def hess(self, w):\n",
        "      res = np.array([[6,2,4],\n",
        "                    [2,8,2],\n",
        "                    [4,2,6]])\n",
        "      return res\n"
      ],
      "metadata": {
        "id": "77_JSfwzkFrt"
      },
      "execution_count": null,
      "outputs": []
    },
    {
      "cell_type": "code",
      "source": [
        "# Different starting points\n",
        "w_origin = np.array([0, 0, 0])\n",
        "w_1 = np.array([1, 1, 1])\n",
        "w_2 = np.array([1, 0, 0])\n",
        "n_iter= 1000"
      ],
      "metadata": {
        "id": "KtT8CH3-jvKV"
      },
      "execution_count": null,
      "outputs": []
    },
    {
      "cell_type": "code",
      "source": [
        "w_0_origin = np.zeros(3) # origin point\n",
        "w_0_1 = np.array([100,-0.1, -11])\n",
        "w_0_2 = np.array([-100,-200, -50])\n",
        "\n",
        "sol, D = Newton(quadratic_func, w_0_origin, np.ones(3), 0.0001)\n",
        "print(D)\n",
        "sol, D = Newton(quadratic_func, w_0_1, np.ones(3), 0.0001)\n",
        "print(D)\n",
        "sol, D = Newton(quadratic_func, w_0_2, np.ones(3), 0.0001)\n",
        "print(D)\n",
        "#Pour un précision de 10e-4 l'algorithme n'a eu besoin d'une seul itération pour converger peu importe le point de départ\n"
      ],
      "metadata": {
        "colab": {
          "base_uri": "https://localhost:8080/"
        },
        "id": "ZFhZJvGTlfYH",
        "outputId": "200d5ca0-fd96-4e60-cbbe-df3728711b77"
      },
      "execution_count": null,
      "outputs": [
        {
          "output_type": "stream",
          "name": "stdout",
          "text": [
            "[6.280369834735101e-16]\n",
            "[5.872156290738386e-14]\n",
            "[6.961868572213853e-14]\n"
          ]
        }
      ]
    },
    {
      "cell_type": "markdown",
      "source": [
        "Pour une itération, avec la méthode de Newton, on obtient une convergence avec une précision de 10e-4."
      ],
      "metadata": {
        "id": "CI0gFqMkKeVW"
      }
    },
    {
      "cell_type": "markdown",
      "source": [
        "We can observe convergence in one iteration for other starting points.\n",
        "\n"
      ],
      "metadata": {
        "id": "T9HtV2_hm7JY"
      }
    },
    {
      "cell_type": "markdown",
      "source": [
        "### Question 1.2"
      ],
      "metadata": {
        "id": "P6HiPUbxqGg8"
      }
    },
    {
      "cell_type": "markdown",
      "source": [
        "a)"
      ],
      "metadata": {
        "id": "7bkZK_UWqbJg"
      }
    },
    {
      "cell_type": "code",
      "source": [
        "class rosenbrock:\n",
        "  def q(self, w):\n",
        "      return 100*(w[1]-w[0]**2)**2+(1-w[0])**2\n",
        "\n",
        "  def grad(self, w):\n",
        "      grad = np.zeros(2)\n",
        "      grad[0]= 2*w[0]-2+400*w[0]**3-400*w[0]*w[1]\n",
        "      grad[1]= -200 * w[0]**2 + 200 * w[1]\n",
        "      return grad\n",
        "\n",
        "  def hess(self, w):\n",
        "      return np.array([(1200* w[0] ** 2 - 400* w[1] + 2, -400 * w[0]), [-400 * w[0], 200]])"
      ],
      "metadata": {
        "id": "JYaqOadWqcsx"
      },
      "execution_count": null,
      "outputs": []
    },
    {
      "cell_type": "code",
      "source": [
        "w_0_origin = np.zeros(2)\n",
        "sol , D = Newton(rosenbrock, w_0_origin, np.ones(2), 1e-4)\n",
        "print(D)\n",
        "\n",
        "w_01 = np.array([-1.2,1])\n",
        "w_02 = np.array([0, 1/200 + 10e-12])\n",
        "w_03 = np.array([0, 0.000005])\n",
        "\n",
        "sol , D = Newton(rosenbrock, w_01, np.ones(2), 0.001)\n",
        "print(D)\n",
        "\n",
        "#sol , D = Newton(rosenbrock, w_02, np.ones(2), 0.001)\n",
        "#Pour w_03 , w ne convergent pas vers la solution qui est (1,1)\n",
        "\n",
        "sol , D = Newton(rosenbrock, w_03, np.ones(2), 0.001)\n",
        "# Pour w_03 , w ne convergent pas vers la solution qui est (1,1)"
      ],
      "metadata": {
        "colab": {
          "base_uri": "https://localhost:8080/"
        },
        "id": "m9zs6mM6KxKA",
        "outputId": "38260350-beb7-4d93-8034-c162f98ff28d"
      },
      "execution_count": null,
      "outputs": [
        {
          "output_type": "stream",
          "name": "stdout",
          "text": [
            "[1.0, 2.220446049250313e-16]\n",
            "[2.2083386975405683, 4.1817487074842346, 0.479583866255296, 0.05597267634318108, 9.624794562547852e-06]\n"
          ]
        }
      ]
    },
    {
      "cell_type": "markdown",
      "source": [
        "La méthode ne converge pas dans tous les cas d'initialisation. De plus on observe une similarité au niveau de la non-convergence avec les points w02 et w03 (principe de localité de Newton)."
      ],
      "metadata": {
        "id": "Dsj1hcwgKz96"
      }
    },
    {
      "cell_type": "markdown",
      "source": [
        "## 1.2 A globally convergent version of Newton's method"
      ],
      "metadata": {
        "id": "rejk0MTqwF-K"
      }
    },
    {
      "cell_type": "markdown",
      "source": [
        "### Implementation 1.2 "
      ],
      "metadata": {
        "id": "Rd-C4GbSybUz"
      }
    },
    {
      "cell_type": "markdown",
      "source": [
        "### Question 1.3 BGFS"
      ],
      "metadata": {
        "id": "ys7B7HJu3tIx"
      }
    },
    {
      "cell_type": "markdown",
      "source": [
        "### Question 1.4"
      ],
      "metadata": {
        "id": "5krEV6ZS3vzV"
      }
    },
    {
      "cell_type": "code",
      "source": [
        "def get_lambda(A):\n",
        "  lambda_min = np.linalg.eigvals(A)[0]\n",
        "  lambda_k = 2*max(0.001, -lambda_min)         #Ne marche pas avec 0.\n",
        "  return lambda_k\n",
        "\n",
        "\n",
        "def get_alpha_Armijo(teta, f, w, c, d):   \n",
        "  i = 1\n",
        "  alpha = teta \n",
        "  while (f.q(w+alpha*d) >= f.q(w)+c*alpha*np.dot(d, f.grad(w))):    #f.grad déja calcul aurait pu être évité, répétition pas pris en compte pour 1.5\n",
        "    i += 1\n",
        "    alpha = teta ** i\n",
        "  return teta ** (i-1) \n",
        "\n",
        "\n",
        "def Newton_like_ite(f, grad, second_grad, w_k , c, teta):\n",
        "  Lambda = get_lambda(second_grad)\n",
        "  inv = np.linalg.inv((second_grad + Lambda * np.eye(second_grad.shape[0])))\n",
        "  d = - np.dot(inv, grad)\n",
        "  alpha = get_alpha_Armijo(teta, f, w_k, c, d)\n",
        "  w = w_k + alpha * d\n",
        "\n",
        "  global Fonc_Newton\n",
        "  global Grad_Newton\n",
        "  Fonc_Newton += 2\n",
        "  Grad_Newton += 1\n",
        "  return w\n",
        "\n",
        "def Newton_like(fonc, w_0, w_star, c, teta, eps):\n",
        "  w_k = w_0\n",
        "  val = fonc()\n",
        "  delta = 1\n",
        "  D = []\n",
        "  while (delta > eps):\n",
        "    w_k = Newton_like_ite(val, val.grad(w_k), val.hess(w_k) ,w_k ,c ,teta)\n",
        "    delta = np.linalg.norm(w_k - w_star)\n",
        "    D.append(delta)\n",
        "    global Ite_Newton\n",
        "    Ite_Newton += 1\n",
        "    #print(delta)\n",
        "  return w_k, D\n"
      ],
      "metadata": {
        "id": "8HuI68YIFm8V"
      },
      "execution_count": null,
      "outputs": []
    },
    {
      "cell_type": "code",
      "source": [
        "w_0_1 = np.array([-1.2,1.1])\n",
        "w_0_2 = np.array([0, 1/200 + 10e-12])\n",
        "sol , D = Newton_like(rosenbrock, w_0_1, np.ones(2),  0.0001, 0.5, 0.001)\n",
        "sol , D = Newton_like(rosenbrock, w_0_2, np.ones(2),  0.15, 0.2, 0.0001)\n",
        "#print(sol)"
      ],
      "metadata": {
        "id": "OT2D59wX2M0S"
      },
      "execution_count": null,
      "outputs": []
    },
    {
      "cell_type": "markdown",
      "source": [
        "La méthode semble robuste aux choix de c et théta."
      ],
      "metadata": {
        "id": "pzFdRaARy4_l"
      }
    },
    {
      "cell_type": "code",
      "source": [
        "def BFGS_ite(f, grad, H, w_k, c, teta):\n",
        "  d = - np.dot(H, grad)\n",
        "  alpha = get_alpha_Armijo(teta, f, w_k, c, d)\n",
        "  #print(alpha)\n",
        "  w = w_k -  alpha*np.dot(H, grad)\n",
        "  s_k = w - w_k\n",
        "  v_k = f.grad(w) - grad\n",
        "  global Grad_BFGS \n",
        "  global Fonc_BFGS \n",
        "  Grad_BFGS += 2\n",
        "  Fonc_BFGS += 2\n",
        "  \n",
        "  if np.dot(s_k, v_k)>0:\n",
        "    v_k = v_k.reshape((w_k.shape[0],1))\n",
        "    s_k = s_k.reshape((1,w_k.shape[0]))\n",
        "    l = np.eye(grad.shape[0])- (np.matmul(v_k,s_k))/np.dot(s_k, v_k)[0,0]\n",
        "    H = l.T @ H @ l + (s_k.T @ s_k)/np.dot(s_k, v_k)[0,0]\n",
        "  return w, H\n",
        "\n",
        "def BFGS(fonc, w_0, w_star, eps, c, teta):\n",
        "  w_k = w_0\n",
        "  val = fonc()\n",
        "  delta = 1 \n",
        "  D = []\n",
        "  H = np.eye(w_0.shape[0])\n",
        "  while (delta > eps):\n",
        "    w_k, H = BFGS_ite(val, val.grad(w_k), H ,w_k ,c ,teta)\n",
        "    global Ite_BFGS\n",
        "    Ite_BFGS += 1\n",
        "    \n",
        "    delta = np.linalg.norm(w_k - w_star)\n",
        "    D.append(delta)\n",
        "  return w_k, D\n",
        "\n"
      ],
      "metadata": {
        "id": "TabYFZu057Ri"
      },
      "execution_count": null,
      "outputs": []
    },
    {
      "cell_type": "code",
      "source": [
        "w_0_origin = np.zeros(2)\n",
        "sol , D = BFGS(rosenbrock, w_0_origin, np.ones(2), 0.001, 0.0001, 0.5)\n",
        "print(sol)\n",
        "\n",
        "w_0_1 = np.array([-1.2,1])\n",
        "w_0_2 = np.array([0, 1/200 + 10e-12])\n",
        "sol , D = BFGS(rosenbrock, w_0_1, np.ones(2), 0.001, 0.0001, 0.5)\n",
        "print(sol)\n",
        "\n"
      ],
      "metadata": {
        "colab": {
          "base_uri": "https://localhost:8080/"
        },
        "id": "UFyJTNaP31kl",
        "outputId": "1e6a2aa0-7233-4d2a-a05a-3c6d559c65eb"
      },
      "execution_count": null,
      "outputs": [
        {
          "output_type": "stream",
          "name": "stdout",
          "text": [
            "[1.00032849 1.000671  ]\n",
            "[1.00000628 0.99994956]\n"
          ]
        }
      ]
    },
    {
      "cell_type": "markdown",
      "source": [
        "### Implementation 1.3"
      ],
      "metadata": {
        "id": "S8Y1TZ5v7UTC"
      }
    },
    {
      "cell_type": "code",
      "source": [
        "# BFGS - QuasiNewton -> Rosenrock\n",
        "Ite_BFGS = 0 \n",
        "Fonc_BFGS = 0\n",
        "Grad_BFGS = 0\n",
        "Ite_Newton = 0 \n",
        "Fonc_Newton = 0\n",
        "Grad_Newton = 0\n",
        "\n",
        "print(\"Comparaison Quasi-Newton et BFGS sur Rosenbrock \\n\")\n",
        "\n",
        "w_0_origin = np.zeros(2)\n",
        "sol , D = BFGS(rosenbrock, w_0_origin, np.ones(2), 0.001, 0.0001, 0.5)\n",
        "print(\"BFGS -> initialisation :\", w_0_origin, \" résultat: Ite:\", Ite_BFGS, \", Fonction Eval:\", Fonc_BFGS, \", grad eval :\", Grad_BFGS )\n",
        "sol , D = Newton_like(rosenbrock, w_0_origin, np.ones(2),  0.0001, 0.5, 0.001)\n",
        "print(\"Newton -> initialisation :\", w_0_origin, \" résultat: Ite:\", Ite_Newton, \", Fonction Eval:\", Fonc_Newton, \", grad eval :\", Grad_Newton, \", Hess eval:\", 2*Grad_Newton  )\n",
        "\n",
        "print(\"\\n\")\n",
        "w_0_1 = np.array([-1.2,1])\n",
        "Ite_BFGS = 0 \n",
        "Fonc_BFGS = 0\n",
        "Grad_BFGS = 0\n",
        "Ite_Newton = 0 \n",
        "Fonc_Newton = 0\n",
        "Grad_Newton = 0\n",
        "sol , D = BFGS(rosenbrock, w_0_1, np.ones(2), 0.001, 0.0001, 0.5)\n",
        "print(\"BFGS -> initialisation :\", w_0_1, \" résultat: Ite:\", Ite_BFGS, \", Fonction Eval:\", Fonc_BFGS, \", grad eval :\", Grad_BFGS )\n",
        "sol , D = Newton_like(rosenbrock, w_0_1, np.ones(2),  0.0001, 0.5, 0.001)\n",
        "print(\"Newton -> initialisation :\", w_0_1, \" résultat: Ite:\", Ite_Newton, \", Fonction Eval:\", Fonc_Newton, \", grad eval :\", Grad_Newton, \", Hess eval:\", 2*Grad_Newton  )\n",
        "\n",
        "\n",
        "w_0_2 = np.array([0, 1/200 + 10e-12])\n",
        "print(\"\\n\")\n",
        "Ite_BFGS = 0 \n",
        "Fonc_BFGS = 0\n",
        "Grad_BFGS = 0\n",
        "Ite_Newton = 0 \n",
        "Fonc_Newton = 0\n",
        "Grad_Newton = 0\n",
        "sol , D = BFGS(rosenbrock, w_0_2, np.ones(2), 0.001, 0.0001, 0.5)\n",
        "print(\"BFGS -> initialisation :\", w_0_2, \" résultat: Ite:\", Ite_BFGS, \", Fonction Eval:\", Fonc_BFGS, \", grad eval :\", Grad_BFGS )\n",
        "sol , D = Newton_like(rosenbrock, w_0_2, np.ones(2),  0.0001, 0.5, 0.001)\n",
        "print(\"Newton -> initialisation :\", w_0_2, \" résultat: Ite:\", Ite_Newton, \", Fonction Eval:\", Fonc_Newton, \", grad eval :\", Grad_Newton, \", Hess eval:\", 2*Grad_Newton  )"
      ],
      "metadata": {
        "colab": {
          "base_uri": "https://localhost:8080/"
        },
        "id": "kElOLS63NFkE",
        "outputId": "09590d36-165b-46e6-f8c1-e37cf732fd27"
      },
      "execution_count": null,
      "outputs": [
        {
          "output_type": "stream",
          "name": "stdout",
          "text": [
            "Comparaison Quasi-Newton et BFGS sur Rosenbrock \n",
            "\n",
            "BFGS -> initialisation : [0. 0.]  résultat: Ite: 51 , Fonction Eval: 102 , grad eval : 102\n",
            "Newton -> initialisation : [0. 0.]  résultat: Ite: 7 , Fonction Eval: 14 , grad eval : 7 , Hess eval: 14\n",
            "\n",
            "\n",
            "BFGS -> initialisation : [-1.2  1. ]  résultat: Ite: 48 , Fonction Eval: 96 , grad eval : 96\n",
            "Newton -> initialisation : [-1.2  1. ]  résultat: Ite: 14 , Fonction Eval: 28 , grad eval : 14 , Hess eval: 28\n",
            "\n",
            "\n",
            "BFGS -> initialisation : [0.    0.005]  résultat: Ite: 32 , Fonction Eval: 64 , grad eval : 64\n",
            "Newton -> initialisation : [0.    0.005]  résultat: Ite: 7 , Fonction Eval: 14 , grad eval : 7 , Hess eval: 14\n"
          ]
        }
      ]
    },
    {
      "cell_type": "code",
      "source": [
        "# BFGS - QuasiNewton -> q\n",
        "Ite_BFGS = 0 \n",
        "Fonc_BFGS = 0\n",
        "Grad_BFGS = 0\n",
        "Ite_Newton = 0 \n",
        "Fonc_Newton = 0\n",
        "Grad_Newton = 0\n",
        "\n",
        "print(\"Comparaison Quasi-Newton et BFGS sur q \\n\")\n",
        "\n",
        "w_0_origin = np.zeros(3)\n",
        "sol , D = BFGS(quadratic_func, w_0_origin, np.ones(3), 0.001, 0.0001, 0.5)\n",
        "print(\"BFGS -> initialisation :\", w_0_origin, \" résultat: Ite:\", Ite_BFGS, \", Fonction Eval:\", Fonc_BFGS, \", grad eval :\", Grad_BFGS )\n",
        "sol , D = Newton_like(quadratic_func, w_0_origin, np.ones(3),  0.0001, 0.5, 0.001)\n",
        "print(\"Newton -> initialisation :\", w_0_origin, \" résultat: Ite:\", Ite_Newton, \", Fonction Eval:\", Fonc_Newton, \", grad eval :\", Grad_Newton, \", Hess eval:\", 3*Grad_Newton  )\n",
        "\n",
        "print(\"\\n\")\n",
        "w_0_1 = np.array([100, -0.1, -11])\n",
        "Ite_BFGS = 0 \n",
        "Fonc_BFGS = 0\n",
        "Grad_BFGS = 0\n",
        "Ite_Newton = 0 \n",
        "Fonc_Newton = 0\n",
        "Grad_Newton = 0\n",
        "sol , D = BFGS(quadratic_func, w_0_1, np.ones(3), 0.001, 0.0001, 0.5)\n",
        "print(\"BFGS -> initialisation :\", w_0_1, \" résultat: Ite:\", Ite_BFGS, \", Fonction Eval:\", Fonc_BFGS, \", grad eval :\", Grad_BFGS )\n",
        "sol , D = Newton_like(quadratic_func, w_0_1, np.ones(3),  0.0001, 0.5, 0.001)\n",
        "print(\"Newton -> initialisation :\", w_0_1, \" résultat: Ite:\", Ite_Newton, \", Fonction Eval:\", Fonc_Newton, \", grad eval :\", Grad_Newton, \", Hess eval:\", 3*Grad_Newton  )\n",
        "\n",
        "\n",
        "w_0_2 = np.array([-100,-200, -50])\n",
        "print(\"\\n\")\n",
        "Ite_BFGS = 0 \n",
        "Fonc_BFGS = 0\n",
        "Grad_BFGS = 0\n",
        "Ite_Newton = 0 \n",
        "Fonc_Newton = 0\n",
        "Grad_Newton = 0\n",
        "sol , D = BFGS(quadratic_func, w_0_2, np.ones(3), 0.001, 0.0001, 0.5)\n",
        "print(\"BFGS -> initialisation :\", w_0_2, \" résultat: Ite:\", Ite_BFGS, \", Fonction Eval:\", Fonc_BFGS, \", grad eval :\", Grad_BFGS )\n",
        "sol , D = Newton_like(quadratic_func, w_0_2, np.ones(3),  0.0001, 0.5, 0.001)\n",
        "print(\"Newton -> initialisation :\", w_0_2, \" résultat: Ite:\", Ite_Newton, \", Fonction Eval:\", Fonc_Newton, \", grad eval :\", Grad_Newton, \", Hess eval:\", 3*Grad_Newton  )"
      ],
      "metadata": {
        "colab": {
          "base_uri": "https://localhost:8080/"
        },
        "id": "VJ_hgRDsNJFb",
        "outputId": "2810c7a0-f390-43c5-eecf-03ab41df57cf"
      },
      "execution_count": null,
      "outputs": [
        {
          "output_type": "stream",
          "name": "stdout",
          "text": [
            "Comparaison Quasi-Newton et BFGS sur q \n",
            "\n",
            "BFGS -> initialisation : [0. 0. 0.]  résultat: Ite: 2 , Fonction Eval: 4 , grad eval : 4\n",
            "Newton -> initialisation : [0. 0. 0.]  résultat: Ite: 1 , Fonction Eval: 2 , grad eval : 1 , Hess eval: 3\n",
            "\n",
            "\n",
            "BFGS -> initialisation : [100.   -0.1 -11. ]  résultat: Ite: 8 , Fonction Eval: 16 , grad eval : 16\n",
            "Newton -> initialisation : [100.   -0.1 -11. ]  résultat: Ite: 2 , Fonction Eval: 4 , grad eval : 2 , Hess eval: 6\n",
            "\n",
            "\n",
            "BFGS -> initialisation : [-100 -200  -50]  résultat: Ite: 8 , Fonction Eval: 16 , grad eval : 16\n",
            "Newton -> initialisation : [-100 -200  -50]  résultat: Ite: 2 , Fonction Eval: 4 , grad eval : 2 , Hess eval: 6\n"
          ]
        }
      ]
    },
    {
      "cell_type": "markdown",
      "source": [
        "### Implementation 1.4"
      ],
      "metadata": {
        "id": "4OHQhzGW7fN1"
      }
    },
    {
      "cell_type": "code",
      "source": [
        "def BFGS_limited_ite(f, grad, H, s, v, m, w_k, c, teta):\n",
        "  Lambda = get_lambda(H)\n",
        "  inv = H + Lambda * np.eye(H.shape[0])\n",
        "  d = - np.dot(inv, grad)\n",
        "  alpha = get_alpha_Armijo(teta, f, w_k, c, d)\n",
        "\n",
        "  w = w_k -  alpha*np.dot(H, grad)\n",
        "  s_k = w - w_k\n",
        "  v_k = f.grad(w) - grad\n",
        "  s.append(s_k)\n",
        "  v.append(v_k)\n",
        "\n",
        "  H = np.eye(H.shape[0])\n",
        "  if m == 0 :\n",
        "    v_k = v_k.reshape((2,1))\n",
        "    s_k = s_k.reshape((1,2))\n",
        "    l = np.eye(grad.shape[0])- (np.matmul(v_k,s_k))/np.dot(s_k, v_k)[0,0]\n",
        "    H = l.T @ H @ l + (s_k.T @ s_k)/np.dot(s_k, v_k)[0,0]\n",
        "  \n",
        "  else : \n",
        "    for k in reversed(range(m)):\n",
        "      if(len(v)-k-1)>=0:\n",
        "        v_k = v[len(v)-k-1].reshape((2,1))\n",
        "        s_k = s[len(s)-k-1].reshape((1,2))\n",
        "        if np.dot(s_k, v_k)>0:\n",
        "          l = np.eye(grad.shape[0])- (np.matmul(v_k,s_k))/np.dot(s_k, v_k)[0,0]\n",
        "          H = l.T @ H @ l + (s_k.T @ s_k)/np.dot(s_k, v_k)[0,0]\n",
        "  return w, H\n",
        "\n",
        "\n",
        "def BFGS_limited(fonc, w_0, w_star,m, eps, c, teta):\n",
        "  w_k = w_0\n",
        "  val = fonc()\n",
        "  delta = 1 \n",
        "  D = []\n",
        "  s = []\n",
        "  v = []\n",
        "  H = np.eye(w_0.shape[0])\n",
        "  while (delta > eps):\n",
        "    w_k, H = BFGS_limited_ite(val, val.grad(w_k), H, s, v, m ,w_k ,c ,teta)\n",
        "    delta = np.linalg.norm(w_k - w_star)\n",
        "    D.append(delta)\n",
        "  return w_k, D\n",
        "\n",
        "\n",
        "w_0_1 = np.array([-1.2,1])\n",
        "\n",
        "sol , D = BFGS_limited(rosenbrock, w_0_1, np.ones(2), 7, 0.001, 0.0001, 0.5)\n",
        "sol , D = BFGS_limited(rosenbrock, w_0_1, np.ones(2), 5, 0.001, 0.0001, 0.5)\n",
        "print(sol)\n",
        "#sol , D = BFGS_limited(rosenbrock, w_0_1, np.ones(2), 0, 0.001, 0.0001, 0.5)\n",
        "#sol , D = BFGS_limited(rosenbrock, w_0_1, np.ones(2), 1, 0.001, 0.0001, 0.5)"
      ],
      "metadata": {
        "colab": {
          "base_uri": "https://localhost:8080/"
        },
        "id": "0YyAr4SLNZzP",
        "outputId": "d5318414-8b93-4ba7-e63b-3cba1087c3c4"
      },
      "execution_count": null,
      "outputs": [
        {
          "output_type": "stream",
          "name": "stdout",
          "text": [
            "[1.00008622 1.00026365]\n"
          ]
        }
      ]
    },
    {
      "cell_type": "markdown",
      "source": [
        "### Question 1.6"
      ],
      "metadata": {
        "id": "9aLd6-QaRYqo"
      }
    },
    {
      "cell_type": "code",
      "source": [
        "!pip install memory_profiler -q\n",
        "%load_ext memory_profiler"
      ],
      "metadata": {
        "colab": {
          "base_uri": "https://localhost:8080/"
        },
        "id": "fRoN7cVURec2",
        "outputId": "09a71aa2-0739-4188-b971-74226c9cfad0"
      },
      "execution_count": null,
      "outputs": [
        {
          "output_type": "stream",
          "name": "stdout",
          "text": [
            "  Building wheel for memory-profiler (setup.py) ... \u001b[?25l\u001b[?25hdone\n"
          ]
        }
      ]
    },
    {
      "cell_type": "code",
      "source": [
        "%%memit\n",
        "sol , D = BFGS_limited(rosenbrock, w_0_1, np.ones(2), 7, 0.001, 0.0001, 0.5)"
      ],
      "metadata": {
        "colab": {
          "base_uri": "https://localhost:8080/"
        },
        "id": "6r-0OxScRylE",
        "outputId": "75bdf6ad-d888-4b7f-bd97-316d1db0833c"
      },
      "execution_count": null,
      "outputs": [
        {
          "output_type": "stream",
          "name": "stdout",
          "text": [
            "peak memory: 187.55 MiB, increment: 0.02 MiB\n"
          ]
        }
      ]
    },
    {
      "cell_type": "code",
      "source": [
        "%%memit\n",
        "sol , D = BFGS(rosenbrock, w_0_1, np.ones(2), 0.001, 0.0001, 0.5)"
      ],
      "metadata": {
        "colab": {
          "base_uri": "https://localhost:8080/"
        },
        "id": "4W3c4N4CR0Bw",
        "outputId": "3be77e90-006a-41c7-8c63-182708f27da9"
      },
      "execution_count": null,
      "outputs": [
        {
          "output_type": "stream",
          "name": "stdout",
          "text": [
            "peak memory: 187.74 MiB, increment: 0.08 MiB\n"
          ]
        }
      ]
    },
    {
      "cell_type": "markdown",
      "source": [
        "# 2. Stochastic second-order methods"
      ],
      "metadata": {
        "id": "BTt8VBuER1dA"
      }
    },
    {
      "cell_type": "markdown",
      "source": [
        "## 2.1 Subsampling Newton methods"
      ],
      "metadata": {
        "id": "MzYVRrDsbaIa"
      }
    },
    {
      "cell_type": "markdown",
      "source": [
        "### Implementation 2.1"
      ],
      "metadata": {
        "id": "uQK_9OUSXTU6"
      }
    },
    {
      "cell_type": "code",
      "source": [
        "class f:\n",
        "  def q(self, lam, w, X, y, Index_grad):\n",
        "    v = 0\n",
        "    for i in Index_grad:\n",
        "      X[i] = np.array(X[i])\n",
        "      f_i = np.log(1+np.exp(-y[i]*np.dot(X[i], w))) + lam/2 * np.linalg.norm(w)\n",
        "      v += f_i\n",
        "    return v/len(Index_grad)\n",
        "\n",
        "  def stoch_grad_i(self, i, lam, w, X, y):\n",
        "    X[i] = np.array(X[i])\n",
        "    grad = - (y[i]/(1+np.exp(y[i] *np.dot(X[i], w)))) * X[i] + lam * w\n",
        "    return grad\n",
        "\n",
        "  def stoch_second_i(self, i, lam, w, X, y): \n",
        "    X[i] = np.array(X[i])\n",
        "    s = X[i].reshape((1,2))\n",
        "    Hess = np.exp(y[i] *np.dot(X[i], w)) /(1+np.exp(y[i] *np.dot(X[i], w))) * np.matmul(X[i].reshape((2,1)),s)\n",
        "    return Hess\n",
        "\n",
        "  def stoch_grad(self, lam, w, Index_grad, X,y):\n",
        "    f_i_grad = [self.stoch_grad_i(i, lam, w, X,y) for i in Index_grad]\n",
        "    return np.mean(f_i_grad, axis = 0)\n",
        "\n",
        "  def stoch_second(self, lam, w, Index_sec, X,y):\n",
        "    f_i_sec = [self.stoch_second_i(i, lam, w ,X,y) for i in Index_sec]\n",
        "    return np.mean(f_i_sec, axis = 0)\n"
      ],
      "metadata": {
        "id": "iHGoKwKMSID5"
      },
      "execution_count": null,
      "outputs": []
    },
    {
      "cell_type": "code",
      "source": [
        "def simu_linmodel(w, n, std=1., corr=0.5): \n",
        "    d = w.shape[0]\n",
        "    cov = toeplitz(corr ** np.arange(0, d))\n",
        "    X = multivariate_normal(np.zeros(d), cov, size=n)\n",
        "    noise = std * randn(n)\n",
        "    y = X.dot(w) + noise\n",
        "    return X, y\n",
        "\n",
        "\n",
        "w_true = np.array([10.0, 0.0])\n",
        "X,y = simu_linmodel(w_true, 20000, std=2., corr=0.5)\n",
        "y = np.sign(y)\n",
        "\n",
        "w_0_origin = np.zeros(2)\n",
        "w_0_1 = np.array([-1.2,1])\n"
      ],
      "metadata": {
        "id": "SCj_XKzjSPdS"
      },
      "execution_count": null,
      "outputs": []
    },
    {
      "cell_type": "code",
      "source": [
        "def get_alpha_Armijo_stoch(teta, f, w, c, d, lam, X,y, Index_grad):\n",
        "  i = 1\n",
        "  alpha = teta \n",
        "  while (f.q(lam, w+alpha*d, X, y, Index_grad )> f.q(lam, w, X, y, Index_grad )+c*alpha*np.dot(d, f.stoch_grad(lam, w, Index_grad, X,y))):\n",
        "    i += 1\n",
        "    alpha = teta ** i\n",
        "  return teta ** (i-1)\n",
        "\n",
        "\n",
        "def stoch_new_ite(X, y, Index_grad, f, grad, second_grad, w_k, method, c, teta, a, lam):\n",
        "  inv = np.linalg.inv(second_grad)\n",
        "  d = np.dot(inv, grad)\n",
        "  if method == \"armijo\": \n",
        "    alpha = get_alpha_Armijo_stoch(teta, f, w_k, c, d, lam, X,y, Index_grad)\n",
        "    #print(\"alpha =\", alpha)\n",
        "  if method == \"constant\" : \n",
        "    alpha = a\n",
        "  if method == \"Stoch_lipchitz\":\n",
        "    L=0\n",
        "    for i in Index_grad : \n",
        "      L += np.matmul(X[i].T, X[i])\n",
        "    alpha = a/((np.linalg.norm(L)/len(Index_grad))+lam)\n",
        "  w = w_k - alpha * d\n",
        "  return w\n",
        "\n",
        "\n",
        "def stoch_new(fonc, w_0, w_star, eps, CardS, CardSh, X, y, method = \"constant\", teta = 0, c = 0, a=0, lam = 0):\n",
        "  w_k = w_0\n",
        "  val = fonc()\n",
        "  delta = 1\n",
        "  D = []\n",
        "  grad = 1\n",
        "  while (grad > eps):\n",
        "    Index_grad = np.random.randint(0, X.shape[0], CardS)\n",
        "    Index_sec = np.random.randint(0, X.shape[0], CardSh)\n",
        "    w_k = stoch_new_ite(X,y, Index_grad, val, val.stoch_grad(lam, w_k, Index_grad, X,y), val.stoch_second(lam, w_k, Index_sec, X,y), w_k , method, c ,teta, a, lam)\n",
        "    delta = np.linalg.norm(w_k - w_star)\n",
        "    #print(\"delta\", delta, \"grad\", np.linalg.norm(val.stoch_grad(lam, w_k, Index_grad, X,y)),w_k)\n",
        "    grad = np.linalg.norm(val.stoch_grad(lam, w_k, Index_grad, X,y))\n",
        "    D.append(grad)\n",
        "  return w_k, D"
      ],
      "metadata": {
        "id": "lzB0pBavSNwe"
      },
      "execution_count": null,
      "outputs": []
    },
    {
      "cell_type": "markdown",
      "source": [
        "### Question 2.1"
      ],
      "metadata": {
        "id": "m7TS5l-SXj95"
      }
    },
    {
      "cell_type": "code",
      "source": [
        "#sol_1 , D_1 = stoch_new(f, w_0_1, w_true, 0.01,  1, 1, X,y, method=\"constant\", a=0.01, lam=0.5) #converge pas avec un batch_size de 1\n",
        "sol_20 , D_20 = stoch_new(f, w_0_1, w_true, 0.1,  20, 20, X,y, method=\"constant\", a=0.01, lam=0.5)\n",
        "print(sol_20)\n",
        "D_20_val = [D_20[i] for i in np.arange(0, len(D_20), 1000)]\n",
        "sol_200 , D_200 = stoch_new(f, w_0_1, w_true, 0.1,  200, 200, X,y, method=\"constant\", a=0.01, lam=0.5)\n",
        "print(sol_200)\n",
        "D_200_val = [D_200[i] for i in np.arange(0, len(D_200), 100)]\n",
        "sol_2000 , D_2000 = stoch_new(f, w_0_1, w_true, 0.1,  2000, 2000, X,y, method=\"constant\", a=0.01, lam=0.5)\n",
        "print(sol_2000)\n",
        "D_2000_val = [D_2000[i] for i in np.arange(0, len(D_2000), 10)]\n",
        "sol_20000 , D_20000= stoch_new(f, w_0_1, w_true, 0.1,  20000, 20000, X,y, method=\"constant\", a=0.01, lam=0.5)\n",
        "print(sol_20000)"
      ],
      "metadata": {
        "colab": {
          "base_uri": "https://localhost:8080/"
        },
        "id": "fl-iZ77rSRDN",
        "outputId": "cd610241-58bb-4dfd-c628-9449c152ece3"
      },
      "execution_count": null,
      "outputs": [
        {
          "output_type": "stream",
          "name": "stdout",
          "text": [
            "[0.25429934 0.13921522]\n",
            "[0.37296128 0.12780351]\n",
            "[0.38520672 0.12830615]\n",
            "[0.38868838 0.12799875]\n"
          ]
        }
      ]
    },
    {
      "cell_type": "code",
      "source": [
        "# In terms of objective value (logarithmic scale)\n",
        "plt.figure(figsize=(7, 5))\n",
        "plt.semilogy(D_20_val, label=\"BS = 20\", lw=2)\n",
        "plt.semilogy(D_200_val, label=\"BS = 200\", lw=2)\n",
        "plt.semilogy(D_2000_val, label=\"BS = 2000\", lw=2)\n",
        "plt.semilogy(D_20000, label=\"BS = 20000\", lw=2)\n",
        "plt.title(\"Convergence plot\", fontsize=16)\n",
        "plt.xlabel(\"#epochs\", fontsize=14)\n",
        "plt.ylabel(\"Objective (log scale)\", fontsize=14)\n",
        "plt.legend()"
      ],
      "metadata": {
        "colab": {
          "base_uri": "https://localhost:8080/",
          "height": 373
        },
        "id": "Tx1-P9XVSSgL",
        "outputId": "6c9ddf8d-8331-4711-bc00-668c084744b0"
      },
      "execution_count": null,
      "outputs": [
        {
          "output_type": "execute_result",
          "data": {
            "text/plain": [
              "<matplotlib.legend.Legend at 0x7f8c0e008b50>"
            ]
          },
          "metadata": {},
          "execution_count": 293
        },
        {
          "output_type": "display_data",
          "data": {
            "image/png": "[encoded data removed]",
            "text/plain": [
              "<Figure size 504x360 with 1 Axes>"
            ]
          },
          "metadata": {
            "needs_background": "light"
          }
        }
      ]
    },
    {
      "cell_type": "code",
      "source": [
        "#batch_size = 200 \n",
        "L = np.linalg.norm(np.matmul(X.T, X))/X.shape[0] + 0.5\n",
        "sol , D = stoch_new(f, w_0_1, w_true, 0.1,  200, 200, X,y, method=\"constant\", a=0.01/L, lam=0.5)\n",
        "sol2 , D2 = stoch_new(f, w_0_1, w_true, 0.1,  200, 200, X,y, method=\"Stoch_lipchitz\", a=0.01, lam=0.5)\n",
        "sol3 , D3 = stoch_new(f, w_0_1, w_true, 0.1,  200, 200, X,y, method=\"constant\", a=0.05/L, lam=0.5)\n",
        "sol4 , D4 = stoch_new(f, w_0_1, w_true, 0.1,  200, 200, X,y, method=\"Stoch_lipchitz\", a=0.05, lam=0.5)\n",
        "sol5 , D5 = stoch_new(f, w_0_1, w_true, 0.1,  200, 200, X,y, method=\"constant\", a=0.1/L, lam=0.5)\n",
        "sol6 , D6 = stoch_new(f, w_0_1, w_true, 0.1,  200, 200, X,y, method=\"Stoch_lipchitz\", a=0.1, lam=0.5)"
      ],
      "metadata": {
        "id": "_rXJldUJSVi5"
      },
      "execution_count": null,
      "outputs": []
    },
    {
      "cell_type": "markdown",
      "source": [
        "### Question 2.2   Different stepsize choices\n",
        "\n",
        "Fix sample sizes for the gradient and Hessian. We consider two possible stepsize\n",
        "choices."
      ],
      "metadata": {
        "id": "iqb1FdKoYeFn"
      }
    },
    {
      "cell_type": "code",
      "source": [
        "plt.figure(figsize=(7, 5))\n",
        "plt.semilogy(D, label=\"alpha = 0.01/L\", lw=2)\n",
        "plt.semilogy(D2, label=\"alpha = 0.01/L_Sk\", lw=2)\n",
        "plt.semilogy(D3, label=\"alpha = 0.05/L\", lw=2)\n",
        "plt.semilogy(D4, label=\"alpha = 0.05/L_Sk\", lw=2)\n",
        "plt.semilogy(D5, label=\"alpha = 0.1/L\", lw=2)\n",
        "plt.semilogy(D6, label=\"alpha = 0.1/L_Sk\", lw=2)\n",
        "plt.title(\"Convergence plot\", fontsize=16)\n",
        "plt.xlabel(\"#epochs\", fontsize=14)\n",
        "plt.ylabel(\"Objective (log scale)\", fontsize=14)\n",
        "plt.legend()"
      ],
      "metadata": {
        "colab": {
          "base_uri": "https://localhost:8080/",
          "height": 373
        },
        "id": "4iD93fVnSW3l",
        "outputId": "4eff9f5a-e6e8-4e3e-b4ff-bd99c23ac285"
      },
      "execution_count": null,
      "outputs": [
        {
          "output_type": "execute_result",
          "data": {
            "text/plain": [
              "<matplotlib.legend.Legend at 0x7f8c0b3002d0>"
            ]
          },
          "metadata": {},
          "execution_count": 295
        },
        {
          "output_type": "display_data",
          "data": {
            "image/png": "[encoded data removed]",
            "text/plain": [
              "<Figure size 504x360 with 1 Axes>"
            ]
          },
          "metadata": {
            "needs_background": "light"
          }
        }
      ]
    },
    {
      "cell_type": "markdown",
      "source": [
        "### Implementation 2.2"
      ],
      "metadata": {
        "id": "-obX2JXnXx2R"
      }
    },
    {
      "cell_type": "code",
      "source": [
        "def BFGS_ite_stoch(f, grad, H, w_k, c, teta, lam, X,y, Index_grad):\n",
        "  s = np.dot(H, grad)\n",
        "  s = s.reshape((s.shape[0],))\n",
        "\n",
        "  alpha = get_alpha_Armijo_stoch(teta, f, w_k, c, -s, lam, X,y, Index_grad)\n",
        "\n",
        "  w = w_k -  alpha*s\n",
        "  s_k = w - w_k\n",
        "  v_k = f.stoch_grad(lam, w, Index_grad, X,y) - grad\n",
        "  \n",
        "  if np.dot(s_k, v_k)>0:\n",
        "    v_k = v_k.reshape((w.shape[0],1))\n",
        "    s_k = s_k.reshape((1,w.shape[0]))\n",
        "    l = np.eye(grad.shape[0])- (np.matmul(v_k,s_k))/np.dot(s_k, v_k)[0,0]\n",
        "    H = l.T @ H @ l + (s_k.T @ s_k)/np.dot(s_k, v_k)[0,0]\n",
        "  return w, H\n",
        "\n",
        "\n",
        "def BFGS_stoch(fonc, w_0, w_star, eps, CardS, X,y, c, teta, lam):\n",
        "  w_k = w_0\n",
        "  val = fonc()\n",
        "  grad = 1  \n",
        "  D = []\n",
        "  H = np.eye(w_0.shape[0])\n",
        "  while (grad > eps):\n",
        "    Index_grad = np.random.randint(0, len(y), CardS)\n",
        "    w_k, H = BFGS_ite_stoch(val, val.stoch_grad(lam, w_k, Index_grad, X,y), H ,w_k ,c ,teta, lam, X,y, Index_grad)\n",
        "    delta = np.linalg.norm(w_k - w_star)\n",
        "    grad = np.linalg.norm(val.stoch_grad(lam, w_k, Index_grad, X,y))\n",
        "    D.append(grad)\n",
        "  return w_k, D"
      ],
      "metadata": {
        "id": "J13JLYlJTnbr"
      },
      "execution_count": null,
      "outputs": []
    },
    {
      "cell_type": "markdown",
      "source": [
        "### Question 2.3"
      ],
      "metadata": {
        "id": "xSfwKSDuX6Bw"
      }
    },
    {
      "cell_type": "code",
      "source": [
        "w_true = np.array([1.0, 1.2])\n",
        "X,y = simu_linmodel(w_true, 2000, std=1., corr=0.5)\n",
        "y = np.sign(y)\n",
        "\n",
        "w_0_origin = np.zeros(2)\n",
        "w_0_1 = np.array([-1.2,1])\n",
        "w_0_2 = np.array([0, 1/200 + 10e-12])\n"
      ],
      "metadata": {
        "id": "ivpsIe5fTo77"
      },
      "execution_count": 297,
      "outputs": []
    },
    {
      "cell_type": "code",
      "source": [
        "sol_1 , D_1 = BFGS_stoch(f, w_0_1, w_true, 0.1,  1, X,y, c = 0.001, teta = 0.5, lam=0.1) #converge pas avec un batch_size de 1\n",
        "sol_20 , D_20 = BFGS_stoch(f, w_0_1, w_true, 0.1, 50, X,y, c = 0.001, teta = 0.5, lam=0.1)\n",
        "D_20_val = [D_20[i] for i in np.arange(0, len(D_20), 1000)]\n",
        "sol_200 , D_200 = BFGS_stoch(f, w_0_1, w_true, 0.1,  500, X,y, c = 0.001, teta = 0.5, lam=0.1)\n",
        "D_200_val = [D_200[i] for i in np.arange(0, len(D_200), 100)]\n",
        "sol_2000 , D_2000 = BFGS_stoch(f, w_0_1, w_true, 0.1,  5000, X,y, c = 0.001, teta = 0.5, lam=0.1)\n",
        "D_2000_val = [D_2000[i] for i in np.arange(0, len(D_2000), 10)]\n",
        "sol_20000 , D_20000= BFGS_stoch(f, w_0_1, w_true, 0.1, 20000, X,y, c = 0.001, teta = 0.5, lam=0.1)"
      ],
      "metadata": {
        "id": "qlNJFQyKTqNt"
      },
      "execution_count": 298,
      "outputs": []
    },
    {
      "cell_type": "code",
      "source": [
        "class g:\n",
        "  def q(self, lam, w, X, y, Index_grad):\n",
        "    v = 0\n",
        "    for i in Index_grad:\n",
        "      s= np.dot(X[i], w)\n",
        "      f_i = (y[i] - 1/(1+np.exp(- s)))**2\n",
        "      v += f_i\n",
        "    return v/len(Index_grad)\n",
        "\n",
        "  def stoch_grad_i(self, i, lam, w, X, y):\n",
        "    s = np.dot(X[i], w).reshape((1,))\n",
        "    grad = - (2*np.exp(s)*(np.exp(s)*(y[i]-1) + y[i]))/(1+np.exp(s))**3 * X[i]\n",
        "    return grad.T\n",
        "\n",
        "  def stoch_second_i(self, i, lam, w, X, y): \n",
        "    s = X[i].reshape((1,X[i].shape[1]))\n",
        "    d = np.dot(X[i], w).reshape((1,))\n",
        "    Hess = float((2*np.exp(d)*(np.exp(2*d)*(y[i]-1) + 2*np.exp(d) - y[i])/(1+np.exp(d))**4))  * np.matmul(X[i].reshape((X[i].shape[1],1)),s)\n",
        "    return Hess\n",
        "\n",
        "  def stoch_grad(self, lam, w, Index_grad, X,y):\n",
        "      f_i_grad = [self.stoch_grad_i(i, lam, w, X,y) for i in Index_grad]\n",
        "      return np.mean(f_i_grad, axis = 0)\n",
        "\n",
        "  def stoch_second(self, lam, w, Index_sec, X,y):\n",
        "      f_i_sec = [self.stoch_second_i(i, lam, w ,X,y) for i in Index_sec]"
      ],
      "metadata": {
        "id": "PNK3bJo4Tr2S"
      },
      "execution_count": 299,
      "outputs": []
    },
    {
      "cell_type": "code",
      "source": [
        ""
      ],
      "metadata": {
        "id": "8FQq11qWXBPJ"
      },
      "execution_count": null,
      "outputs": []
    },
    {
      "cell_type": "markdown",
      "source": [
        ""
      ],
      "metadata": {
        "id": "GTolQ_b6RxBy"
      }
    }
  ]
}