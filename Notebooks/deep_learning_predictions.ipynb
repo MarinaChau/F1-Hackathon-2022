{
  "cells": [
    {
      "cell_type": "code",
      "execution_count": 1,
      "metadata": {
        "id": "pF1vvBXSeeXr"
      },
      "outputs": [],
      "source": [
        "import os\n",
        "import sys\n",
        "sys.path.append(\"/content/drive/MyDrive/Hackathon/code/\")\n",
        "import numpy as np\n",
        "import matplotlib.pyplot as plt\n",
        "import seaborn as sns\n",
        "import pandas as pd\n",
        "import pickle\n",
        "import json"
      ]
    },
    {
      "cell_type": "code",
      "execution_count": 2,
      "metadata": {
        "id": "nFKMn4vffUno"
      },
      "outputs": [],
      "source": [
        "import tensorflow as tf\n",
        "from tensorflow.keras import layers, optimizers\n",
        "from tensorflow.keras.models import Model\n",
        "import tensorflow.keras.backend as K"
      ]
    },
    {
      "cell_type": "code",
      "execution_count": 3,
      "metadata": {
        "colab": {
          "base_uri": "https://localhost:8080/"
        },
        "id": "ujDCs3ZxfVxr",
        "outputId": "c5e79741-1a4a-441a-ff3f-9dd99161db5a"
      },
      "outputs": [
        {
          "output_type": "stream",
          "name": "stdout",
          "text": [
            "Mounted at /content/drive\n"
          ]
        }
      ],
      "source": [
        "from google.colab import drive\n",
        "drive.mount('/content/drive')"
      ]
    },
    {
      "cell_type": "markdown",
      "metadata": {
        "id": "Vx7fIQSOrqZi"
      },
      "source": [
        "# Importing and preprocessing the data"
      ]
    },
    {
      "cell_type": "code",
      "execution_count": 4,
      "metadata": {
        "id": "0bUS9JL3rtVH"
      },
      "outputs": [],
      "source": [
        "f = open(\"/content/drive/MyDrive/Hackathon/dataset/dataset_reoganized_v8.pkl\", 'rb')\n",
        "dataset = pickle.load(f)\n",
        "for i in range(len(dataset)):\n",
        "    dataset[i] = dataset[i].dropna()\n",
        "f.close()"
      ]
    },
    {
      "cell_type": "code",
      "source": [
        "dataset[0].columns"
      ],
      "metadata": {
        "colab": {
          "base_uri": "https://localhost:8080/"
        },
        "id": "xKverHgsOgZp",
        "outputId": "f4c4fc17-5c28-41bc-ebec-1b1bb8d0b1d0"
      },
      "execution_count": 141,
      "outputs": [
        {
          "output_type": "execute_result",
          "data": {
            "text/plain": [
              "Index(['index', 'M_SESSION_LINK_IDENTIFIER', 'M_TRACK_TEMPERATURE',\n",
              "       'M_FORECAST_ACCURACY', 'M_AIR_TEMPERATURE', 'M_SESSION_TIME_LEFT',\n",
              "       'M_SESSION_DURATION', 'M_WEATHER', 'M_TIME_OFFSET',\n",
              "       'M_TRACK_TEMPERATURE_CHANGE', 'M_AIR_TEMPERATURE_CHANGE',\n",
              "       'M_RAIN_PERCENTAGE', 'TIME_SESSION'],\n",
              "      dtype='object')"
            ]
          },
          "metadata": {},
          "execution_count": 141
        }
      ]
    },
    {
      "cell_type": "markdown",
      "source": [
        "Dropping unwanted columns and rearranging indices"
      ],
      "metadata": {
        "id": "mhGpv7qRyFMQ"
      }
    },
    {
      "cell_type": "code",
      "execution_count": 5,
      "metadata": {
        "id": "eqAccEohr1qW"
      },
      "outputs": [],
      "source": [
        "for i, d in enumerate(dataset):\n",
        "    dataset[i] = d.reset_index()\n",
        "    dataset[i][\"TIMESTAMP\"] = dataset[i][\"TIMESTAMP\"].view(np.int64)*1e-9\n",
        "    dataset[i] = dataset[i].set_index(\"TIMESTAMP\")\n",
        "    dataset[i] = dataset[i].drop(columns=[\"M_TRACK_LENGTH\",\n",
        "                                          \"M_GAME_PAUSED\",\n",
        "                                          \"M_NUM_WEATHER_FORECAST_SAMPLES\",\n",
        "                                          \"M_TRACK_ID\",\n",
        "                                          \"M_SESSION_TYPE\",\n",
        "                                          \"M_WEATHER_FORECAST_SAMPLES_M_SESSION_TYPE\",\n",
        "                                          \"M_SESSION_UID\"], axis=1).copy()"
      ]
    },
    {
      "cell_type": "markdown",
      "source": [
        "Adding external weather information to our model"
      ],
      "metadata": {
        "id": "XtUIziqKyR4R"
      }
    },
    {
      "cell_type": "code",
      "execution_count": 6,
      "metadata": {
        "id": "caOWqzhexbKA"
      },
      "outputs": [],
      "source": [
        "weather = pd.read_csv(\"/content/drive/MyDrive/Hackathon/dataset/weatherHistory.csv\")"
      ]
    },
    {
      "cell_type": "code",
      "execution_count": 7,
      "metadata": {
        "id": "zMARZUKayHwY"
      },
      "outputs": [],
      "source": [
        "# Dictionary mapping from the F1 dataset weather types to the external dataset weather types\n",
        "weather_type_mapping = {\"0\": ['Breezy', 'Breezy and Dry', 'Clear', 'Windy and Dry', 'Windy'],\n",
        "                        \"1\": ['Breezy and Foggy', 'Breezy and Mostly Cloudy', 'Breezy and Partly Cloudy',\n",
        "                              'Humid and Partly Cloudy', 'Partly Cloudy', 'Windy and Partly Cloudy', 'Dangerously Windy and Partly Cloudy'],\n",
        "                        \"2\": ['Breezy and Mostly Cloudy', 'Breezy and Overcast', 'Dry and Mostly Cloudy',\n",
        "                              'Humid and Mostly Cloudy', 'Humid and Overcast', 'Mostly Cloudy', 'Overcast',\n",
        "                              'Windy and Mostly Cloudy', 'Windy and Overcast'], \n",
        "                        \"3\": ['Drizzle'],\n",
        "                        \"4\": ['Rain']}\n",
        "\n",
        "def str_to_cat(label, dict):\n",
        "  \"\"\"\n",
        "  Simple function assigning a label to the corresponding F1 dataset class.\n",
        "  Args:\n",
        "    label (string): external dataset label\n",
        "    dict (dictionary): weather type mapping\n",
        "  \"\"\"\n",
        "  for k, v in dict.items():\n",
        "    if label in v:\n",
        "      return int(k)"
      ]
    },
    {
      "cell_type": "markdown",
      "source": [
        "Applying some changes to the external dataset..."
      ],
      "metadata": {
        "id": "p-cW3_Jgy45K"
      }
    },
    {
      "cell_type": "code",
      "execution_count": 8,
      "metadata": {
        "colab": {
          "base_uri": "https://localhost:8080/",
          "height": 363
        },
        "id": "dzbeFgPa1Tk9",
        "outputId": "6bff39b9-1efd-4441-9a1c-215490dc9e79"
      },
      "outputs": [
        {
          "output_type": "execute_result",
          "data": {
            "text/html": [
              "\n",
              "  <div id=\"df-877f3153-1bdf-4eec-a112-1b5671a9df14\">\n",
              "    <div class=\"colab-df-container\">\n",
              "      <div>\n",
              "<style scoped>\n",
              "    .dataframe tbody tr th:only-of-type {\n",
              "        vertical-align: middle;\n",
              "    }\n",
              "\n",
              "    .dataframe tbody tr th {\n",
              "        vertical-align: top;\n",
              "    }\n",
              "\n",
              "    .dataframe thead th {\n",
              "        text-align: right;\n",
              "    }\n",
              "</style>\n",
              "<table border=\"1\" class=\"dataframe\">\n",
              "  <thead>\n",
              "    <tr style=\"text-align: right;\">\n",
              "      <th></th>\n",
              "      <th>Humidity</th>\n",
              "      <th>Wind Speed (km/h)</th>\n",
              "      <th>Wind Bearing (degrees)</th>\n",
              "      <th>Visibility (km)</th>\n",
              "      <th>Pressure (millibars)</th>\n",
              "      <th>M_AIR_TEMPERATURE</th>\n",
              "      <th>M_WEATHER</th>\n",
              "    </tr>\n",
              "  </thead>\n",
              "  <tbody>\n",
              "    <tr>\n",
              "      <th>6</th>\n",
              "      <td>0.780000</td>\n",
              "      <td>11.270000</td>\n",
              "      <td>20.000000</td>\n",
              "      <td>0.00000</td>\n",
              "      <td>1033.300</td>\n",
              "      <td>-20.0</td>\n",
              "      <td>0.0</td>\n",
              "    </tr>\n",
              "    <tr>\n",
              "      <th>7</th>\n",
              "      <td>0.780000</td>\n",
              "      <td>3.220000</td>\n",
              "      <td>200.000000</td>\n",
              "      <td>4.02500</td>\n",
              "      <td>1033.800</td>\n",
              "      <td>-20.0</td>\n",
              "      <td>1.0</td>\n",
              "    </tr>\n",
              "    <tr>\n",
              "      <th>24</th>\n",
              "      <td>0.910000</td>\n",
              "      <td>3.638600</td>\n",
              "      <td>161.000000</td>\n",
              "      <td>5.20030</td>\n",
              "      <td>1035.900</td>\n",
              "      <td>-17.0</td>\n",
              "      <td>0.0</td>\n",
              "    </tr>\n",
              "    <tr>\n",
              "      <th>25</th>\n",
              "      <td>0.900000</td>\n",
              "      <td>2.785300</td>\n",
              "      <td>228.000000</td>\n",
              "      <td>3.57420</td>\n",
              "      <td>1032.180</td>\n",
              "      <td>-17.0</td>\n",
              "      <td>1.0</td>\n",
              "    </tr>\n",
              "    <tr>\n",
              "      <th>30</th>\n",
              "      <td>0.870000</td>\n",
              "      <td>11.270000</td>\n",
              "      <td>160.000000</td>\n",
              "      <td>7.08400</td>\n",
              "      <td>1016.150</td>\n",
              "      <td>-16.0</td>\n",
              "      <td>0.0</td>\n",
              "    </tr>\n",
              "    <tr>\n",
              "      <th>31</th>\n",
              "      <td>0.415000</td>\n",
              "      <td>5.635000</td>\n",
              "      <td>190.000000</td>\n",
              "      <td>4.50800</td>\n",
              "      <td>1029.500</td>\n",
              "      <td>-16.0</td>\n",
              "      <td>1.0</td>\n",
              "    </tr>\n",
              "    <tr>\n",
              "      <th>32</th>\n",
              "      <td>0.640000</td>\n",
              "      <td>7.995260</td>\n",
              "      <td>210.200000</td>\n",
              "      <td>4.75594</td>\n",
              "      <td>1031.142</td>\n",
              "      <td>-16.0</td>\n",
              "      <td>2.0</td>\n",
              "    </tr>\n",
              "    <tr>\n",
              "      <th>36</th>\n",
              "      <td>0.494000</td>\n",
              "      <td>8.806700</td>\n",
              "      <td>178.400000</td>\n",
              "      <td>8.52656</td>\n",
              "      <td>1016.072</td>\n",
              "      <td>-15.0</td>\n",
              "      <td>0.0</td>\n",
              "    </tr>\n",
              "    <tr>\n",
              "      <th>37</th>\n",
              "      <td>0.910000</td>\n",
              "      <td>6.166300</td>\n",
              "      <td>170.000000</td>\n",
              "      <td>5.97310</td>\n",
              "      <td>1014.210</td>\n",
              "      <td>-15.0</td>\n",
              "      <td>1.0</td>\n",
              "    </tr>\n",
              "    <tr>\n",
              "      <th>38</th>\n",
              "      <td>0.543333</td>\n",
              "      <td>8.055367</td>\n",
              "      <td>197.333333</td>\n",
              "      <td>5.82820</td>\n",
              "      <td>1030.930</td>\n",
              "      <td>-15.0</td>\n",
              "      <td>2.0</td>\n",
              "    </tr>\n",
              "  </tbody>\n",
              "</table>\n",
              "</div>\n",
              "      <button class=\"colab-df-convert\" onclick=\"convertToInteractive('df-877f3153-1bdf-4eec-a112-1b5671a9df14')\"\n",
              "              title=\"Convert this dataframe to an interactive table.\"\n",
              "              style=\"display:none;\">\n",
              "        \n",
              "  <svg xmlns=\"http://www.w3.org/2000/svg\" height=\"24px\"viewBox=\"0 0 24 24\"\n",
              "       width=\"24px\">\n",
              "    <path d=\"M0 0h24v24H0V0z\" fill=\"none\"/>\n",
              "    <path d=\"M18.56 5.44l.94 2.06.94-2.06 2.06-.94-2.06-.94-.94-2.06-.94 2.06-2.06.94zm-11 1L8.5 8.5l.94-2.06 2.06-.94-2.06-.94L8.5 2.5l-.94 2.06-2.06.94zm10 10l.94 2.06.94-2.06 2.06-.94-2.06-.94-.94-2.06-.94 2.06-2.06.94z\"/><path d=\"M17.41 7.96l-1.37-1.37c-.4-.4-.92-.59-1.43-.59-.52 0-1.04.2-1.43.59L10.3 9.45l-7.72 7.72c-.78.78-.78 2.05 0 2.83L4 21.41c.39.39.9.59 1.41.59.51 0 1.02-.2 1.41-.59l7.78-7.78 2.81-2.81c.8-.78.8-2.07 0-2.86zM5.41 20L4 18.59l7.72-7.72 1.47 1.35L5.41 20z\"/>\n",
              "  </svg>\n",
              "      </button>\n",
              "      \n",
              "  <style>\n",
              "    .colab-df-container {\n",
              "      display:flex;\n",
              "      flex-wrap:wrap;\n",
              "      gap: 12px;\n",
              "    }\n",
              "\n",
              "    .colab-df-convert {\n",
              "      background-color: #E8F0FE;\n",
              "      border: none;\n",
              "      border-radius: 50%;\n",
              "      cursor: pointer;\n",
              "      display: none;\n",
              "      fill: #1967D2;\n",
              "      height: 32px;\n",
              "      padding: 0 0 0 0;\n",
              "      width: 32px;\n",
              "    }\n",
              "\n",
              "    .colab-df-convert:hover {\n",
              "      background-color: #E2EBFA;\n",
              "      box-shadow: 0px 1px 2px rgba(60, 64, 67, 0.3), 0px 1px 3px 1px rgba(60, 64, 67, 0.15);\n",
              "      fill: #174EA6;\n",
              "    }\n",
              "\n",
              "    [theme=dark] .colab-df-convert {\n",
              "      background-color: #3B4455;\n",
              "      fill: #D2E3FC;\n",
              "    }\n",
              "\n",
              "    [theme=dark] .colab-df-convert:hover {\n",
              "      background-color: #434B5C;\n",
              "      box-shadow: 0px 1px 3px 1px rgba(0, 0, 0, 0.15);\n",
              "      filter: drop-shadow(0px 1px 2px rgba(0, 0, 0, 0.3));\n",
              "      fill: #FFFFFF;\n",
              "    }\n",
              "  </style>\n",
              "\n",
              "      <script>\n",
              "        const buttonEl =\n",
              "          document.querySelector('#df-877f3153-1bdf-4eec-a112-1b5671a9df14 button.colab-df-convert');\n",
              "        buttonEl.style.display =\n",
              "          google.colab.kernel.accessAllowed ? 'block' : 'none';\n",
              "\n",
              "        async function convertToInteractive(key) {\n",
              "          const element = document.querySelector('#df-877f3153-1bdf-4eec-a112-1b5671a9df14');\n",
              "          const dataTable =\n",
              "            await google.colab.kernel.invokeFunction('convertToInteractive',\n",
              "                                                     [key], {});\n",
              "          if (!dataTable) return;\n",
              "\n",
              "          const docLinkHtml = 'Like what you see? Visit the ' +\n",
              "            '<a target=\"_blank\" href=https://colab.research.google.com/notebooks/data_table.ipynb>data table notebook</a>'\n",
              "            + ' to learn more about interactive tables.';\n",
              "          element.innerHTML = '';\n",
              "          dataTable['output_type'] = 'display_data';\n",
              "          await google.colab.output.renderOutput(dataTable, element);\n",
              "          const docLink = document.createElement('div');\n",
              "          docLink.innerHTML = docLinkHtml;\n",
              "          element.appendChild(docLink);\n",
              "        }\n",
              "      </script>\n",
              "    </div>\n",
              "  </div>\n",
              "  "
            ],
            "text/plain": [
              "    Humidity  Wind Speed (km/h)  ...  M_AIR_TEMPERATURE  M_WEATHER\n",
              "6   0.780000          11.270000  ...              -20.0        0.0\n",
              "7   0.780000           3.220000  ...              -20.0        1.0\n",
              "24  0.910000           3.638600  ...              -17.0        0.0\n",
              "25  0.900000           2.785300  ...              -17.0        1.0\n",
              "30  0.870000          11.270000  ...              -16.0        0.0\n",
              "31  0.415000           5.635000  ...              -16.0        1.0\n",
              "32  0.640000           7.995260  ...              -16.0        2.0\n",
              "36  0.494000           8.806700  ...              -15.0        0.0\n",
              "37  0.910000           6.166300  ...              -15.0        1.0\n",
              "38  0.543333           8.055367  ...              -15.0        2.0\n",
              "\n",
              "[10 rows x 7 columns]"
            ]
          },
          "metadata": {},
          "execution_count": 8
        }
      ],
      "source": [
        "weather[\"M_AIR_TEMPERATURE\"] = (weather[\"Temperature (C)\"]).astype(int)  # Convert to int to increase granularity\n",
        "weather[\"M_WEATHER\"] = weather[\"Summary\"].apply(lambda x: str_to_cat(x, weather_type_mapping))  # Assign numeric category to label\n",
        "weather = weather.drop(columns=['Formatted Date', 'Summary', 'Precip Type', 'Apparent Temperature (C)',\n",
        "                                'Loud Cover', 'Daily Summary', 'Temperature (C)']).copy()\n",
        "w = pd.DataFrame(columns=weather.columns)\n",
        "for temp in np.unique(weather[\"M_AIR_TEMPERATURE\"]):\n",
        "  for wtype in np.unique(weather[\"M_WEATHER\"]):\n",
        "      # Keeping only one value for every (temperature, weather_type) pair\n",
        "      w = w.append(weather[(weather[\"M_AIR_TEMPERATURE\"] == temp) & (weather[\"M_WEATHER\"] == wtype)].mean(), ignore_index=True)\n",
        "\n",
        "w = w.dropna()\n",
        "\n",
        "w.head(10)"
      ]
    },
    {
      "cell_type": "markdown",
      "source": [
        "Now, it is time to expand the F1 video game dataset using the external weather dataset. \n",
        "\n",
        "In order to do this, we merge both DataFrames on two columns: weather type and temperature. \n",
        "\n",
        "That way, we provide more information to the neural network."
      ],
      "metadata": {
        "id": "mun2Na7lzInW"
      }
    },
    {
      "cell_type": "code",
      "execution_count": 9,
      "metadata": {
        "id": "O-SKBpVX2gD_"
      },
      "outputs": [],
      "source": [
        "session_list = []\n",
        "for i, sess in enumerate(dataset):  # Iterate through our sessions\n",
        "  df = sess.merge(w, on=['M_WEATHER', 'M_AIR_TEMPERATURE'], how='inner')\n",
        "  session_list.append(df)"
      ]
    },
    {
      "cell_type": "markdown",
      "source": [
        "Here, we can see that the data has been augmented with new values."
      ],
      "metadata": {
        "id": "pWq5r3Zi0o9x"
      }
    },
    {
      "cell_type": "code",
      "execution_count": 10,
      "metadata": {
        "colab": {
          "base_uri": "https://localhost:8080/",
          "height": 179
        },
        "id": "-eptKMeqfqld",
        "outputId": "06aef058-c96b-4c24-fcad-06705e8198af"
      },
      "outputs": [
        {
          "output_type": "execute_result",
          "data": {
            "text/html": [
              "\n",
              "  <div id=\"df-6c06e9cc-179b-43d0-917f-04155b1ac293\">\n",
              "    <div class=\"colab-df-container\">\n",
              "      <div>\n",
              "<style scoped>\n",
              "    .dataframe tbody tr th:only-of-type {\n",
              "        vertical-align: middle;\n",
              "    }\n",
              "\n",
              "    .dataframe tbody tr th {\n",
              "        vertical-align: top;\n",
              "    }\n",
              "\n",
              "    .dataframe thead th {\n",
              "        text-align: right;\n",
              "    }\n",
              "</style>\n",
              "<table border=\"1\" class=\"dataframe\">\n",
              "  <thead>\n",
              "    <tr style=\"text-align: right;\">\n",
              "      <th></th>\n",
              "      <th>index</th>\n",
              "      <th>M_SESSION_LINK_IDENTIFIER</th>\n",
              "      <th>M_TRACK_TEMPERATURE</th>\n",
              "      <th>M_FORECAST_ACCURACY</th>\n",
              "      <th>M_AIR_TEMPERATURE</th>\n",
              "      <th>M_SESSION_TIME_LEFT</th>\n",
              "      <th>M_SESSION_DURATION</th>\n",
              "      <th>M_WEATHER</th>\n",
              "      <th>M_TIME_OFFSET</th>\n",
              "      <th>M_TRACK_TEMPERATURE_CHANGE</th>\n",
              "      <th>M_AIR_TEMPERATURE_CHANGE</th>\n",
              "      <th>M_RAIN_PERCENTAGE</th>\n",
              "      <th>TIME_SESSION</th>\n",
              "      <th>Humidity</th>\n",
              "      <th>Wind Speed (km/h)</th>\n",
              "      <th>Wind Bearing (degrees)</th>\n",
              "      <th>Visibility (km)</th>\n",
              "      <th>Pressure (millibars)</th>\n",
              "    </tr>\n",
              "  </thead>\n",
              "  <tbody>\n",
              "    <tr>\n",
              "      <th>0</th>\n",
              "      <td>186900</td>\n",
              "      <td>18385983</td>\n",
              "      <td>33</td>\n",
              "      <td>0</td>\n",
              "      <td>25</td>\n",
              "      <td>7023</td>\n",
              "      <td>7200</td>\n",
              "      <td>0</td>\n",
              "      <td>0</td>\n",
              "      <td>2</td>\n",
              "      <td>2</td>\n",
              "      <td>4</td>\n",
              "      <td>177</td>\n",
              "      <td>0.516218</td>\n",
              "      <td>9.638353</td>\n",
              "      <td>143.109244</td>\n",
              "      <td>12.197982</td>\n",
              "      <td>929.92563</td>\n",
              "    </tr>\n",
              "  </tbody>\n",
              "</table>\n",
              "</div>\n",
              "      <button class=\"colab-df-convert\" onclick=\"convertToInteractive('df-6c06e9cc-179b-43d0-917f-04155b1ac293')\"\n",
              "              title=\"Convert this dataframe to an interactive table.\"\n",
              "              style=\"display:none;\">\n",
              "        \n",
              "  <svg xmlns=\"http://www.w3.org/2000/svg\" height=\"24px\"viewBox=\"0 0 24 24\"\n",
              "       width=\"24px\">\n",
              "    <path d=\"M0 0h24v24H0V0z\" fill=\"none\"/>\n",
              "    <path d=\"M18.56 5.44l.94 2.06.94-2.06 2.06-.94-2.06-.94-.94-2.06-.94 2.06-2.06.94zm-11 1L8.5 8.5l.94-2.06 2.06-.94-2.06-.94L8.5 2.5l-.94 2.06-2.06.94zm10 10l.94 2.06.94-2.06 2.06-.94-2.06-.94-.94-2.06-.94 2.06-2.06.94z\"/><path d=\"M17.41 7.96l-1.37-1.37c-.4-.4-.92-.59-1.43-.59-.52 0-1.04.2-1.43.59L10.3 9.45l-7.72 7.72c-.78.78-.78 2.05 0 2.83L4 21.41c.39.39.9.59 1.41.59.51 0 1.02-.2 1.41-.59l7.78-7.78 2.81-2.81c.8-.78.8-2.07 0-2.86zM5.41 20L4 18.59l7.72-7.72 1.47 1.35L5.41 20z\"/>\n",
              "  </svg>\n",
              "      </button>\n",
              "      \n",
              "  <style>\n",
              "    .colab-df-container {\n",
              "      display:flex;\n",
              "      flex-wrap:wrap;\n",
              "      gap: 12px;\n",
              "    }\n",
              "\n",
              "    .colab-df-convert {\n",
              "      background-color: #E8F0FE;\n",
              "      border: none;\n",
              "      border-radius: 50%;\n",
              "      cursor: pointer;\n",
              "      display: none;\n",
              "      fill: #1967D2;\n",
              "      height: 32px;\n",
              "      padding: 0 0 0 0;\n",
              "      width: 32px;\n",
              "    }\n",
              "\n",
              "    .colab-df-convert:hover {\n",
              "      background-color: #E2EBFA;\n",
              "      box-shadow: 0px 1px 2px rgba(60, 64, 67, 0.3), 0px 1px 3px 1px rgba(60, 64, 67, 0.15);\n",
              "      fill: #174EA6;\n",
              "    }\n",
              "\n",
              "    [theme=dark] .colab-df-convert {\n",
              "      background-color: #3B4455;\n",
              "      fill: #D2E3FC;\n",
              "    }\n",
              "\n",
              "    [theme=dark] .colab-df-convert:hover {\n",
              "      background-color: #434B5C;\n",
              "      box-shadow: 0px 1px 3px 1px rgba(0, 0, 0, 0.15);\n",
              "      filter: drop-shadow(0px 1px 2px rgba(0, 0, 0, 0.3));\n",
              "      fill: #FFFFFF;\n",
              "    }\n",
              "  </style>\n",
              "\n",
              "      <script>\n",
              "        const buttonEl =\n",
              "          document.querySelector('#df-6c06e9cc-179b-43d0-917f-04155b1ac293 button.colab-df-convert');\n",
              "        buttonEl.style.display =\n",
              "          google.colab.kernel.accessAllowed ? 'block' : 'none';\n",
              "\n",
              "        async function convertToInteractive(key) {\n",
              "          const element = document.querySelector('#df-6c06e9cc-179b-43d0-917f-04155b1ac293');\n",
              "          const dataTable =\n",
              "            await google.colab.kernel.invokeFunction('convertToInteractive',\n",
              "                                                     [key], {});\n",
              "          if (!dataTable) return;\n",
              "\n",
              "          const docLinkHtml = 'Like what you see? Visit the ' +\n",
              "            '<a target=\"_blank\" href=https://colab.research.google.com/notebooks/data_table.ipynb>data table notebook</a>'\n",
              "            + ' to learn more about interactive tables.';\n",
              "          element.innerHTML = '';\n",
              "          dataTable['output_type'] = 'display_data';\n",
              "          await google.colab.output.renderOutput(dataTable, element);\n",
              "          const docLink = document.createElement('div');\n",
              "          docLink.innerHTML = docLinkHtml;\n",
              "          element.appendChild(docLink);\n",
              "        }\n",
              "      </script>\n",
              "    </div>\n",
              "  </div>\n",
              "  "
            ],
            "text/plain": [
              "    index  M_SESSION_LINK_IDENTIFIER  ...  Visibility (km)  Pressure (millibars)\n",
              "0  186900                   18385983  ...        12.197982             929.92563\n",
              "\n",
              "[1 rows x 18 columns]"
            ]
          },
          "metadata": {},
          "execution_count": 10
        }
      ],
      "source": [
        "ts = session_list[1]\n",
        "ts.head(1)"
      ]
    },
    {
      "cell_type": "code",
      "execution_count": 11,
      "metadata": {
        "id": "II_tqGC03ESK"
      },
      "outputs": [],
      "source": [
        "# with open(\"/content/drive/MyDrive/Hackathon/dataset/dataset_reoganized_extended_v1.pkl\", \"wb\") as f:\n",
        "#   pickle.dump(mylist, f)"
      ]
    },
    {
      "cell_type": "markdown",
      "metadata": {
        "id": "mtpRfcyBn7Qr"
      },
      "source": [
        "# Creating Dataset object"
      ]
    },
    {
      "cell_type": "markdown",
      "source": [
        "Creating training and test sets\n",
        "\n",
        "We use a train-test split of 80%-20%, as is the practice in Data Science."
      ],
      "metadata": {
        "id": "hhBtFk500yZA"
      }
    },
    {
      "cell_type": "code",
      "execution_count": 262,
      "metadata": {
        "colab": {
          "base_uri": "https://localhost:8080/"
        },
        "id": "UJDRCRhRlmBA",
        "outputId": "7e355283-df7e-453c-b2aa-ca679b542203"
      },
      "outputs": [
        {
          "output_type": "stream",
          "name": "stdout",
          "text": [
            "0    96295\n",
            "1    46304\n",
            "2    35013\n",
            "Name: M_WEATHER, dtype: int64 177612\n",
            "0    18489\n",
            "1    18105\n",
            "2     6870\n",
            "Name: M_WEATHER, dtype: int64 43464\n"
          ]
        }
      ],
      "source": [
        "correct_dfs = []  # Filtering out datasets that have no predictions for t+60 values.\n",
        "for l in session_list:\n",
        "  if 60 in np.array(l['M_TIME_OFFSET'].values):\n",
        "    correct_dfs.append(l)\n",
        "\n",
        "training_sess = pd.concat(correct_dfs[1:80], axis=0)\n",
        "print(training_sess[\"M_WEATHER\"].value_counts(), training_sess.shape[0])\n",
        "testing_sess = pd.concat(correct_dfs[81:], axis=0)\n",
        "print(testing_sess[\"M_WEATHER\"].value_counts(), testing_sess.shape[0])"
      ]
    },
    {
      "cell_type": "markdown",
      "source": [
        "Importing already created datasets because creating the dataset is a costly process that takes quite some time."
      ],
      "metadata": {
        "id": "w5tJ9QqGEZ_4"
      }
    },
    {
      "cell_type": "code",
      "source": [
        "with open(\"/content/drive/MyDrive/Hackathon/dataset/train_dataset.pkl\", \"rb\") as f:\n",
        "  x_train, y_train1, y_train2 = pickle.load(f)\n",
        "with open(\"/content/drive/MyDrive/Hackathon/dataset/test_dataset.pkl\", \"rb\") as f:\n",
        "  x_test, y_test1, y_test2 = pickle.load(f)"
      ],
      "metadata": {
        "id": "xVRNEU3KDYuD"
      },
      "execution_count": 288,
      "outputs": []
    },
    {
      "cell_type": "code",
      "source": [
        "from src.weather_dataset import WeatherDataset"
      ],
      "metadata": {
        "id": "EFtwgsUuYVo6"
      },
      "execution_count": 289,
      "outputs": []
    },
    {
      "cell_type": "code",
      "execution_count": 290,
      "metadata": {
        "id": "GYj3Vf47o6_y"
      },
      "outputs": [],
      "source": [
        "train_dataset = WeatherDataset(sequence_length=50, df=training_sess, batch_size=2, instanciate_data=False)\n",
        "train_dataset.import_data(x_train, y_train1, y_train2)\n",
        "train_dataset.create_dataset()\n",
        "test_dataset = WeatherDataset(sequence_length=50, df=testing_sess, batch_size=1, instanciate_data=False)\n",
        "test_dataset.import_data(x_test, y_test1, y_test2)\n",
        "test_dataset.create_dataset()"
      ]
    },
    {
      "cell_type": "markdown",
      "metadata": {
        "id": "erEfI-YtpgyA"
      },
      "source": [
        "# Creating the Model"
      ]
    },
    {
      "cell_type": "code",
      "execution_count": 291,
      "metadata": {
        "id": "JQGcOSYbkBdl"
      },
      "outputs": [],
      "source": [
        "params = {\n",
        "    \"recurrent_cell_shape\": 512,\n",
        "    \"learning_rate\": 1e-3,\n",
        "    \"epochs\": 10,\n",
        "    \"batch_size\": 32\n",
        "}"
      ]
    },
    {
      "cell_type": "code",
      "source": [
        "from src.model import WeatherModel"
      ],
      "metadata": {
        "id": "6Y6kW6-6Zeam"
      },
      "execution_count": 313,
      "outputs": []
    },
    {
      "cell_type": "code",
      "execution_count": 444,
      "metadata": {
        "id": "VFGZs5MSmtdE"
      },
      "outputs": [],
      "source": [
        "sequence_length = train_dataset.sequence_length\n",
        "n_features = train_dataset.n_features\n",
        "\n",
        "model = WeatherModel(sequence_length, n_features, params)"
      ]
    },
    {
      "cell_type": "code",
      "execution_count": 435,
      "metadata": {
        "colab": {
          "base_uri": "https://localhost:8080/"
        },
        "id": "9Jl-I-wn3MiH",
        "outputId": "4eb859cc-ffd4-4935-ad54-3a1d0649f654"
      },
      "outputs": [
        {
          "output_type": "stream",
          "name": "stdout",
          "text": [
            "Model: \"model_47\"\n",
            "__________________________________________________________________________________________________\n",
            " Layer (type)                   Output Shape         Param #     Connected to                     \n",
            "==================================================================================================\n",
            " input_48 (InputLayer)          [(None, 50, 17)]     0           []                               \n",
            "                                                                                                  \n",
            " lstm_94 (LSTM)                 (None, 50, 512)      1085440     ['input_48[0][0]']               \n",
            "                                                                                                  \n",
            " lstm_95 (LSTM)                 (None, 512)          2099200     ['lstm_94[0][0]']                \n",
            "                                                                                                  \n",
            " dense_47 (Dense)               (None, 256)          131328      ['lstm_95[0][0]']                \n",
            "                                                                                                  \n",
            " weather_type_softmax_0 (Dense)  (None, 6)           1542        ['dense_47[0][0]']               \n",
            "                                                                                                  \n",
            " weather_type_softmax_1 (Dense)  (None, 6)           1542        ['dense_47[0][0]']               \n",
            "                                                                                                  \n",
            " weather_type_softmax_2 (Dense)  (None, 6)           1542        ['dense_47[0][0]']               \n",
            "                                                                                                  \n",
            " weather_type_softmax_3 (Dense)  (None, 6)           1542        ['dense_47[0][0]']               \n",
            "                                                                                                  \n",
            " weather_type_softmax_4 (Dense)  (None, 6)           1542        ['dense_47[0][0]']               \n",
            "                                                                                                  \n",
            " rain_prob (Dense)              (None, 5)            1285        ['dense_47[0][0]']               \n",
            "                                                                                                  \n",
            "==================================================================================================\n",
            "Total params: 3,324,963\n",
            "Trainable params: 3,324,963\n",
            "Non-trainable params: 0\n",
            "__________________________________________________________________________________________________\n"
          ]
        }
      ],
      "source": [
        "model.model.summary()"
      ]
    },
    {
      "cell_type": "code",
      "execution_count": 445,
      "metadata": {
        "id": "_u1GFFkZuXq7"
      },
      "outputs": [],
      "source": [
        "model.compile()"
      ]
    },
    {
      "cell_type": "code",
      "execution_count": 449,
      "metadata": {
        "id": "vyPy9d79n0OR"
      },
      "outputs": [],
      "source": [
        "#Code for training the model\n",
        "# model.fit(train_dataset.data)"
      ]
    },
    {
      "cell_type": "markdown",
      "source": [
        "We import weights from training."
      ],
      "metadata": {
        "id": "haCjOySVghvV"
      }
    },
    {
      "cell_type": "code",
      "source": [
        "model.model.load_weights('lstm_model_weights.h5')"
      ],
      "metadata": {
        "id": "eQu3qOltgXoN"
      },
      "execution_count": 448,
      "outputs": []
    },
    {
      "cell_type": "markdown",
      "source": [
        "We evaluate the model on the test dataset.\n",
        "We report the following metrics :\n",
        "* Forecast at T+5 : 0.97 weather type Categorical Accuracy\n",
        "* Forecast at T+10 : 0.92 weather type Categorical Accuracy\n",
        "* Forecast at T+15 : 0.88 weather type Categorical Accuracy\n",
        "* Forecast at T+30 : 0.87 weather type Categorical Accuracy\n",
        "* Forecast at T+60 : 0.85 weather type Categorical Accuracy\n",
        "* 0.088 Rain percentage Mean Average Error (mean of predictions for the 5 future timesteps)"
      ],
      "metadata": {
        "id": "omBQkkO5hpBz"
      }
    },
    {
      "cell_type": "code",
      "execution_count": 297,
      "metadata": {
        "colab": {
          "base_uri": "https://localhost:8080/"
        },
        "id": "f7wJP-qXznXo",
        "outputId": "5ed59249-0cc7-4015-d506-fa24fe8b18ac"
      },
      "outputs": [
        {
          "output_type": "stream",
          "name": "stdout",
          "text": [
            "30602/30602 [==============================] - 270s 9ms/step - loss: 4.3531 - weather_type_softmax_0_loss: 0.1943 - weather_type_softmax_1_loss: 0.6790 - weather_type_softmax_2_loss: 1.0378 - weather_type_softmax_3_loss: 1.1052 - weather_type_softmax_4_loss: 1.2469 - rain_prob_loss: 0.0888 - weather_type_softmax_0_categorical_accuracy: 0.9776 - weather_type_softmax_1_categorical_accuracy: 0.9281 - weather_type_softmax_2_categorical_accuracy: 0.8884 - weather_type_softmax_3_categorical_accuracy: 0.8782 - weather_type_softmax_4_categorical_accuracy: 0.8555 - rain_prob_mean_absolute_error: 0.0888\n"
          ]
        },
        {
          "output_type": "execute_result",
          "data": {
            "text/plain": [
              "[4.3531012535095215,\n",
              " 0.19434399902820587,\n",
              " 0.6789713501930237,\n",
              " 1.0377877950668335,\n",
              " 1.1051759719848633,\n",
              " 1.246863603591919,\n",
              " 0.08883225917816162,\n",
              " 0.9775831699371338,\n",
              " 0.9280766248703003,\n",
              " 0.8883733153343201,\n",
              " 0.8782106041908264,\n",
              " 0.8555322885513306,\n",
              " 0.08883225917816162]"
            ]
          },
          "metadata": {},
          "execution_count": 297
        }
      ],
      "source": [
        "model.model.evaluate(test_dataset.data)"
      ]
    },
    {
      "cell_type": "markdown",
      "source": [
        "In these cells, we import the original dataset and take a line from it."
      ],
      "metadata": {
        "id": "xtFSot4TZzxW"
      }
    },
    {
      "cell_type": "code",
      "source": [
        "a = pd.read_csv(\"/content/drive/MyDrive/Hackathon/weather.csv\")"
      ],
      "metadata": {
        "colab": {
          "base_uri": "https://localhost:8080/"
        },
        "id": "zOq16NMzGtRg",
        "outputId": "92a4b14b-eb75-4a32-bf60-37c991ef9554"
      },
      "execution_count": 300,
      "outputs": [
        {
          "output_type": "stream",
          "name": "stderr",
          "text": [
            "/usr/local/lib/python3.7/dist-packages/IPython/core/interactiveshell.py:2882: DtypeWarning: Columns (21) have mixed types.Specify dtype option on import or set low_memory=False.\n",
            "  exec(code_obj, self.user_global_ns, self.user_ns)\n"
          ]
        }
      ]
    },
    {
      "cell_type": "markdown",
      "source": [
        "We can see the output of the model."
      ],
      "metadata": {
        "id": "ERYBWK-wnjgT"
      }
    },
    {
      "cell_type": "code",
      "source": [
        "single_line = a.iloc[np.random.randint(a.shape[0])]  # Selecting one line from the original dataset\n",
        "pred = model.predict(single_line, w, test_dataset)\n",
        "print(json.dumps(pred, indent=2))"
      ],
      "metadata": {
        "colab": {
          "base_uri": "https://localhost:8080/"
        },
        "id": "3SPflq6INbNG",
        "outputId": "7f19393d-2ab2-4b8d-c2a6-cac9d3f5b313"
      },
      "execution_count": 446,
      "outputs": [
        {
          "output_type": "stream",
          "name": "stdout",
          "text": [
            "[17]\n",
            "[\n",
            "  {\n",
            "    \"5\": {\n",
            "      \"type\": 0,\n",
            "      \"rain_percentage\": 0.05\n",
            "    },\n",
            "    \"10\": {\n",
            "      \"type\": 0,\n",
            "      \"rain_percentage\": 0.01\n",
            "    },\n",
            "    \"15\": {\n",
            "      \"type\": 0,\n",
            "      \"rain_percentage\": 0.05\n",
            "    },\n",
            "    \"30\": {\n",
            "      \"type\": 0,\n",
            "      \"rain_percentage\": 0.08\n",
            "    },\n",
            "    \"60\": {\n",
            "      \"type\": 1,\n",
            "      \"rain_percentage\": 0.1\n",
            "    }\n",
            "  }\n",
            "]\n"
          ]
        }
      ]
    }
  ],
  "metadata": {
    "accelerator": "GPU",
    "colab": {
      "collapsed_sections": [
        "-rhy7Sxj2hco"
      ],
      "machine_shape": "hm",
      "name": "deep_learning_predictions.ipynb",
      "provenance": []
    },
    "kernelspec": {
      "display_name": "Python 3",
      "name": "python3"
    },
    "language_info": {
      "name": "python"
    }
  },
  "nbformat": 4,
  "nbformat_minor": 0
}